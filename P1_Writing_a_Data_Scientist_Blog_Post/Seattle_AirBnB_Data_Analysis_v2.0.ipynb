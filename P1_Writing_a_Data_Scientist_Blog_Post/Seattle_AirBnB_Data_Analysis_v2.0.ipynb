{
 "cells": [
  {
   "cell_type": "code",
   "execution_count": 1,
   "metadata": {},
   "outputs": [
    {
     "name": "stdout",
     "output_type": "stream",
     "text": [
      "Python 3.6.6 :: Anaconda, Inc.\r\n"
     ]
    }
   ],
   "source": [
    "!python --version"
   ]
  },
  {
   "cell_type": "code",
   "execution_count": 83,
   "metadata": {
    "_cell_guid": "b1076dfc-b9ad-4769-8c92-a6c4dae69d19",
    "_uuid": "8f2839f25d086af736a60e9eeb907d3b93b6e0e5",
    "collapsed": true
   },
   "outputs": [],
   "source": [
    "# This Python 3 environment comes with many helpful analytics libraries installed\n",
    "# It is defined by the kaggle/python docker image: https://github.com/kaggle/docker-python\n",
    "# For example, here's several helpful packages to load in \n",
    "\n",
    "import numpy as np # linear algebra\n",
    "import pandas as pd # data processing, CSV file I/O (e.g. pd.read_csv)\n",
    "from sklearn.linear_model import LinearRegression\n",
    "from sklearn.model_selection import train_test_split\n",
    "from sklearn.metrics import r2_score, mean_squared_error\n",
    "import matplotlib.pyplot as plt\n",
    "import seaborn as sns\n",
    "%matplotlib inline\n",
    "\n",
    "# Input data files are available in the \"../input/\" directory.\n",
    "# For example, running this (by clicking run or pressing Shift+Enter) will list all files under the input directory\n",
    "\n",
    "# Any results you write to the current directory are saved as output."
   ]
  },
  {
   "cell_type": "code",
   "execution_count": 3,
   "metadata": {
    "_cell_guid": "79c7e3d0-c299-4dcb-8224-4455121ee9b0",
    "_uuid": "d629ff2d2480ee46fbb7e2d37f6b5fab8052498a",
    "collapsed": true
   },
   "outputs": [],
   "source": [
    "listings_df = pd.read_csv('seattle/listings.csv')\n",
    "calendar_df = pd.read_csv('seattle/calendar.csv')"
   ]
  },
  {
   "cell_type": "code",
   "execution_count": 4,
   "metadata": {},
   "outputs": [
    {
     "name": "stdout",
     "output_type": "stream",
     "text": [
      "(3818, 92)\n",
      "<class 'pandas.core.frame.DataFrame'>\n",
      "RangeIndex: 3818 entries, 0 to 3817\n",
      "Data columns (total 92 columns):\n",
      "id                                  3818 non-null int64\n",
      "listing_url                         3818 non-null object\n",
      "scrape_id                           3818 non-null int64\n",
      "last_scraped                        3818 non-null object\n",
      "name                                3818 non-null object\n",
      "summary                             3641 non-null object\n",
      "space                               3249 non-null object\n",
      "description                         3818 non-null object\n",
      "experiences_offered                 3818 non-null object\n",
      "neighborhood_overview               2786 non-null object\n",
      "notes                               2212 non-null object\n",
      "transit                             2884 non-null object\n",
      "thumbnail_url                       3498 non-null object\n",
      "medium_url                          3498 non-null object\n",
      "picture_url                         3818 non-null object\n",
      "xl_picture_url                      3498 non-null object\n",
      "host_id                             3818 non-null int64\n",
      "host_url                            3818 non-null object\n",
      "host_name                           3816 non-null object\n",
      "host_since                          3816 non-null object\n",
      "host_location                       3810 non-null object\n",
      "host_about                          2959 non-null object\n",
      "host_response_time                  3295 non-null object\n",
      "host_response_rate                  3295 non-null object\n",
      "host_acceptance_rate                3045 non-null object\n",
      "host_is_superhost                   3816 non-null object\n",
      "host_thumbnail_url                  3816 non-null object\n",
      "host_picture_url                    3816 non-null object\n",
      "host_neighbourhood                  3518 non-null object\n",
      "host_listings_count                 3816 non-null float64\n",
      "host_total_listings_count           3816 non-null float64\n",
      "host_verifications                  3818 non-null object\n",
      "host_has_profile_pic                3816 non-null object\n",
      "host_identity_verified              3816 non-null object\n",
      "street                              3818 non-null object\n",
      "neighbourhood                       3402 non-null object\n",
      "neighbourhood_cleansed              3818 non-null object\n",
      "neighbourhood_group_cleansed        3818 non-null object\n",
      "city                                3818 non-null object\n",
      "state                               3818 non-null object\n",
      "zipcode                             3811 non-null object\n",
      "market                              3818 non-null object\n",
      "smart_location                      3818 non-null object\n",
      "country_code                        3818 non-null object\n",
      "country                             3818 non-null object\n",
      "latitude                            3818 non-null float64\n",
      "longitude                           3818 non-null float64\n",
      "is_location_exact                   3818 non-null object\n",
      "property_type                       3817 non-null object\n",
      "room_type                           3818 non-null object\n",
      "accommodates                        3818 non-null int64\n",
      "bathrooms                           3802 non-null float64\n",
      "bedrooms                            3812 non-null float64\n",
      "beds                                3817 non-null float64\n",
      "bed_type                            3818 non-null object\n",
      "amenities                           3818 non-null object\n",
      "square_feet                         97 non-null float64\n",
      "price                               3818 non-null object\n",
      "weekly_price                        2009 non-null object\n",
      "monthly_price                       1517 non-null object\n",
      "security_deposit                    1866 non-null object\n",
      "cleaning_fee                        2788 non-null object\n",
      "guests_included                     3818 non-null int64\n",
      "extra_people                        3818 non-null object\n",
      "minimum_nights                      3818 non-null int64\n",
      "maximum_nights                      3818 non-null int64\n",
      "calendar_updated                    3818 non-null object\n",
      "has_availability                    3818 non-null object\n",
      "availability_30                     3818 non-null int64\n",
      "availability_60                     3818 non-null int64\n",
      "availability_90                     3818 non-null int64\n",
      "availability_365                    3818 non-null int64\n",
      "calendar_last_scraped               3818 non-null object\n",
      "number_of_reviews                   3818 non-null int64\n",
      "first_review                        3191 non-null object\n",
      "last_review                         3191 non-null object\n",
      "review_scores_rating                3171 non-null float64\n",
      "review_scores_accuracy              3160 non-null float64\n",
      "review_scores_cleanliness           3165 non-null float64\n",
      "review_scores_checkin               3160 non-null float64\n",
      "review_scores_communication         3167 non-null float64\n",
      "review_scores_location              3163 non-null float64\n",
      "review_scores_value                 3162 non-null float64\n",
      "requires_license                    3818 non-null object\n",
      "license                             0 non-null float64\n",
      "jurisdiction_names                  3818 non-null object\n",
      "instant_bookable                    3818 non-null object\n",
      "cancellation_policy                 3818 non-null object\n",
      "require_guest_profile_picture       3818 non-null object\n",
      "require_guest_phone_verification    3818 non-null object\n",
      "calculated_host_listings_count      3818 non-null int64\n",
      "reviews_per_month                   3191 non-null float64\n",
      "dtypes: float64(17), int64(13), object(62)\n",
      "memory usage: 2.7+ MB\n",
      "None\n",
      "        id                           listing_url       scrape_id last_scraped  \\\n",
      "0   241032   https://www.airbnb.com/rooms/241032  20160104002432   2016-01-04   \n",
      "1   953595   https://www.airbnb.com/rooms/953595  20160104002432   2016-01-04   \n",
      "2  3308979  https://www.airbnb.com/rooms/3308979  20160104002432   2016-01-04   \n",
      "3  7421966  https://www.airbnb.com/rooms/7421966  20160104002432   2016-01-04   \n",
      "4   278830   https://www.airbnb.com/rooms/278830  20160104002432   2016-01-04   \n",
      "\n",
      "                                  name  \\\n",
      "0         Stylish Queen Anne Apartment   \n",
      "1   Bright & Airy Queen Anne Apartment   \n",
      "2  New Modern House-Amazing water view   \n",
      "3                   Queen Anne Chateau   \n",
      "4       Charming craftsman 3 bdm house   \n",
      "\n",
      "                                             summary  \\\n",
      "0                                                NaN   \n",
      "1  Chemically sensitive? We've removed the irrita...   \n",
      "2  New modern house built in 2013.  Spectacular s...   \n",
      "3  A charming apartment that sits atop Queen Anne...   \n",
      "4  Cozy family craftman house in beautiful neighb...   \n",
      "\n",
      "                                               space  \\\n",
      "0  Make your self at home in this charming one-be...   \n",
      "1  Beautiful, hypoallergenic apartment in an extr...   \n",
      "2  Our house is modern, light and fresh with a wa...   \n",
      "3                                                NaN   \n",
      "4  Cozy family craftman house in beautiful neighb...   \n",
      "\n",
      "                                         description experiences_offered  \\\n",
      "0  Make your self at home in this charming one-be...                none   \n",
      "1  Chemically sensitive? We've removed the irrita...                none   \n",
      "2  New modern house built in 2013.  Spectacular s...                none   \n",
      "3  A charming apartment that sits atop Queen Anne...                none   \n",
      "4  Cozy family craftman house in beautiful neighb...                none   \n",
      "\n",
      "                               neighborhood_overview        ...         \\\n",
      "0                                                NaN        ...          \n",
      "1  Queen Anne is a wonderful, truly functional vi...        ...          \n",
      "2  Upper Queen Anne is a charming neighborhood fu...        ...          \n",
      "3                                                NaN        ...          \n",
      "4  We are in the beautiful neighborhood of Queen ...        ...          \n",
      "\n",
      "  review_scores_value requires_license license jurisdiction_names  \\\n",
      "0                10.0                f     NaN         WASHINGTON   \n",
      "1                10.0                f     NaN         WASHINGTON   \n",
      "2                10.0                f     NaN         WASHINGTON   \n",
      "3                 NaN                f     NaN         WASHINGTON   \n",
      "4                 9.0                f     NaN         WASHINGTON   \n",
      "\n",
      "  instant_bookable cancellation_policy  require_guest_profile_picture  \\\n",
      "0                f            moderate                              f   \n",
      "1                f              strict                              t   \n",
      "2                f              strict                              f   \n",
      "3                f            flexible                              f   \n",
      "4                f              strict                              f   \n",
      "\n",
      "  require_guest_phone_verification calculated_host_listings_count  \\\n",
      "0                                f                              2   \n",
      "1                                t                              6   \n",
      "2                                f                              2   \n",
      "3                                f                              1   \n",
      "4                                f                              1   \n",
      "\n",
      "  reviews_per_month  \n",
      "0              4.07  \n",
      "1              1.48  \n",
      "2              1.15  \n",
      "3               NaN  \n",
      "4              0.89  \n",
      "\n",
      "[5 rows x 92 columns]\n",
      "(1393570, 4)\n"
     ]
    },
    {
     "name": "stdout",
     "output_type": "stream",
     "text": [
      "<class 'pandas.core.frame.DataFrame'>\n",
      "RangeIndex: 1393570 entries, 0 to 1393569\n",
      "Data columns (total 4 columns):\n",
      "listing_id    1393570 non-null int64\n",
      "date          1393570 non-null object\n",
      "available     1393570 non-null object\n",
      "price         934542 non-null object\n",
      "dtypes: int64(1), object(3)\n",
      "memory usage: 42.5+ MB\n",
      "None\n",
      "   listing_id        date available   price\n",
      "0      241032  2016-01-04         t  $85.00\n",
      "1      241032  2016-01-05         t  $85.00\n",
      "2      241032  2016-01-06         f     NaN\n",
      "3      241032  2016-01-07         f     NaN\n",
      "4      241032  2016-01-08         f     NaN\n"
     ]
    }
   ],
   "source": [
    "print(listings_df.shape)\n",
    "print(listings_df.info())\n",
    "print(listings_df.head())\n",
    "print(calendar_df.shape)\n",
    "print(calendar_df.info())\n",
    "print(calendar_df.head())"
   ]
  },
  {
   "cell_type": "code",
   "execution_count": 39,
   "metadata": {
    "collapsed": true
   },
   "outputs": [],
   "source": [
    "listings_df_new = listings_df[['id','host_id', 'price', 'city', 'neighbourhood'\n",
    "                                                      , 'host_since', 'host_is_superhost'\n",
    "                                                      , 'room_type', 'bed_type', 'beds', 'bedrooms', 'bathrooms'\n",
    "                                                      , 'minimum_nights', 'cancellation_policy', 'instant_bookable']]"
   ]
  },
  {
   "cell_type": "code",
   "execution_count": 6,
   "metadata": {
    "collapsed": true
   },
   "outputs": [],
   "source": [
    "listing_calendar_df = listings_df_new.merge(calendar_df, left_on = 'id', right_on = 'listing_id', suffixes = ['_listing', '_calendar'])"
   ]
  },
  {
   "cell_type": "code",
   "execution_count": 7,
   "metadata": {},
   "outputs": [
    {
     "name": "stdout",
     "output_type": "stream",
     "text": [
      "<class 'pandas.core.frame.DataFrame'>\n",
      "Int64Index: 1393570 entries, 0 to 1393569\n",
      "Data columns (total 21 columns):\n",
      "id                     1393570 non-null int64\n",
      "host_id                1393570 non-null int64\n",
      "price_listing          1393570 non-null object\n",
      "latitude               1393570 non-null float64\n",
      "longitude              1393570 non-null float64\n",
      "city                   1393570 non-null object\n",
      "neighbourhood          1241730 non-null object\n",
      "host_since             1392840 non-null object\n",
      "host_is_superhost      1392840 non-null object\n",
      "room_type              1393570 non-null object\n",
      "bed_type               1393570 non-null object\n",
      "beds                   1393205 non-null float64\n",
      "bedrooms               1391380 non-null float64\n",
      "bathrooms              1387730 non-null float64\n",
      "minimum_nights         1393570 non-null int64\n",
      "cancellation_policy    1393570 non-null object\n",
      "instant_bookable       1393570 non-null object\n",
      "listing_id             1393570 non-null int64\n",
      "date                   1393570 non-null object\n",
      "available              1393570 non-null object\n",
      "price_calendar         934542 non-null object\n",
      "dtypes: float64(5), int64(4), object(12)\n",
      "memory usage: 233.9+ MB\n"
     ]
    }
   ],
   "source": [
    "listing_calendar_df.info()"
   ]
  },
  {
   "cell_type": "code",
   "execution_count": 8,
   "metadata": {},
   "outputs": [
    {
     "name": "stdout",
     "output_type": "stream",
     "text": [
      "<class 'pandas.core.frame.DataFrame'>\n",
      "Int64Index: 1393570 entries, 0 to 1393569\n",
      "Data columns (total 19 columns):\n",
      "host_id                1393570 non-null int64\n",
      "price_listing          1393570 non-null object\n",
      "latitude               1393570 non-null float64\n",
      "longitude              1393570 non-null float64\n",
      "city                   1393570 non-null object\n",
      "neighbourhood          1241730 non-null object\n",
      "host_since             1392840 non-null object\n",
      "host_is_superhost      1392840 non-null object\n",
      "room_type              1393570 non-null object\n",
      "bed_type               1393570 non-null object\n",
      "beds                   1393205 non-null float64\n",
      "bedrooms               1391380 non-null float64\n",
      "bathrooms              1387730 non-null float64\n",
      "minimum_nights         1393570 non-null int64\n",
      "cancellation_policy    1393570 non-null object\n",
      "instant_bookable       1393570 non-null object\n",
      "date                   1393570 non-null object\n",
      "available              1393570 non-null object\n",
      "price_calendar         934542 non-null object\n",
      "dtypes: float64(5), int64(2), object(12)\n",
      "memory usage: 212.6+ MB\n"
     ]
    }
   ],
   "source": [
    "listing_calendar_df = listing_calendar_df.drop(['id', 'listing_id'], axis = 1)\n",
    "listing_calendar_df.info()"
   ]
  },
  {
   "cell_type": "code",
   "execution_count": 9,
   "metadata": {},
   "outputs": [
    {
     "data": {
      "text/plain": [
       "host_id                     0\n",
       "price_listing               0\n",
       "latitude                    0\n",
       "longitude                   0\n",
       "city                        0\n",
       "neighbourhood          151840\n",
       "host_since                730\n",
       "host_is_superhost         730\n",
       "room_type                   0\n",
       "bed_type                    0\n",
       "beds                      365\n",
       "bedrooms                 2190\n",
       "bathrooms                5840\n",
       "minimum_nights              0\n",
       "cancellation_policy         0\n",
       "instant_bookable            0\n",
       "date                        0\n",
       "available                   0\n",
       "price_calendar         459028\n",
       "dtype: int64"
      ]
     },
     "execution_count": 9,
     "metadata": {},
     "output_type": "execute_result"
    }
   ],
   "source": [
    "listing_calendar_df.isnull().sum()"
   ]
  },
  {
   "cell_type": "markdown",
   "metadata": {},
   "source": [
    "A few columns contains missing values. Instead of drop all missing values, which will cause troubles for further analysis, I will impute the missing values. There are many common methods for missing value imputation. However, after review the dataset, I think the common methods are not the best options for this datasest. For example, host_is_superhost column contains 730 missing values. The superhost is a feature that AirBnB gave to the host who provided excellent services and had been approved by the visitors every 3 months. This is a flag that provide by the AirBnB. If a host doesn't have the value of is the superhost that highly represents this host is not superhost. Meanwhile, the records that don't have superhost data, don't have the host_since data either. I assume these records are from new hosts. Therefore, using the 'f' value to fillin all the missing values in host_is_superhost column instead of using common missing value imputation is more properity. This logic will apply to other missing value imputation. Using the values that meet the situation of the real business rather than the common mean, median or mode imputation."
   ]
  },
  {
   "cell_type": "markdown",
   "metadata": {},
   "source": [
    "Fill Missing Values"
   ]
  },
  {
   "cell_type": "code",
   "execution_count": 10,
   "metadata": {
    "collapsed": true
   },
   "outputs": [],
   "source": [
    "listing_calendar_df.loc[(listing_calendar_df['city'] == '西雅图') |(listing_calendar_df['city'] == 'seattle')|(listing_calendar_df['city'] == 'Seattle '), 'city'] = 'Seattle'"
   ]
  },
  {
   "cell_type": "code",
   "execution_count": 11,
   "metadata": {
    "collapsed": true
   },
   "outputs": [],
   "source": [
    "listing_calendar_df.loc[listing_calendar_df.neighbourhood.isnull(), 'neighbourhood'] = listing_calendar_df.loc[listing_calendar_df.neighbourhood.isnull(), 'city']"
   ]
  },
  {
   "cell_type": "code",
   "execution_count": 12,
   "metadata": {
    "collapsed": true
   },
   "outputs": [],
   "source": [
    "listing_calendar_df.loc[listing_calendar_df.host_is_superhost.isnull(), 'host_is_superhost'] = 'f'"
   ]
  },
  {
   "cell_type": "code",
   "execution_count": 13,
   "metadata": {
    "collapsed": true
   },
   "outputs": [],
   "source": [
    "listing_calendar_df.loc[listing_calendar_df.host_since.isnull(), ].groupby('host_id').date.agg('min')\n",
    "listing_calendar_df.loc[listing_calendar_df.host_since.isnull(), 'host_since'] = '2016-01-04'"
   ]
  },
  {
   "cell_type": "code",
   "execution_count": 14,
   "metadata": {
    "collapsed": true
   },
   "outputs": [],
   "source": [
    "listing_calendar_df.loc[listing_calendar_df.price_calendar.isnull() > 0, \"price_calendar\"] = listing_calendar_df.loc[listing_calendar_df.price_calendar.isnull() > 0, \"price_listing\"] "
   ]
  },
  {
   "cell_type": "code",
   "execution_count": 15,
   "metadata": {},
   "outputs": [
    {
     "data": {
      "text/plain": [
       "Series([], Name: price_calendar, dtype: bool)"
      ]
     },
     "execution_count": 15,
     "metadata": {},
     "output_type": "execute_result"
    }
   ],
   "source": [
    "listing_calendar_df.loc[listing_calendar_df.price_calendar.isnull() > 0, \"price_calendar\"].isnull()"
   ]
  },
  {
   "cell_type": "code",
   "execution_count": 16,
   "metadata": {},
   "outputs": [
    {
     "name": "stdout",
     "output_type": "stream",
     "text": [
      "<class 'pandas.core.frame.DataFrame'>\n",
      "Int64Index: 1393570 entries, 0 to 1393569\n",
      "Data columns (total 19 columns):\n",
      "host_id                1393570 non-null int64\n",
      "price_listing          1393570 non-null object\n",
      "latitude               1393570 non-null float64\n",
      "longitude              1393570 non-null float64\n",
      "city                   1393570 non-null object\n",
      "neighbourhood          1393570 non-null object\n",
      "host_since             1393570 non-null object\n",
      "host_is_superhost      1393570 non-null object\n",
      "room_type              1393570 non-null object\n",
      "bed_type               1393570 non-null object\n",
      "beds                   1393205 non-null float64\n",
      "bedrooms               1391380 non-null float64\n",
      "bathrooms              1387730 non-null float64\n",
      "minimum_nights         1393570 non-null int64\n",
      "cancellation_policy    1393570 non-null object\n",
      "instant_bookable       1393570 non-null object\n",
      "date                   1393570 non-null object\n",
      "available              1393570 non-null object\n",
      "price                  1393570 non-null object\n",
      "dtypes: float64(5), int64(2), object(12)\n",
      "memory usage: 212.6+ MB\n"
     ]
    }
   ],
   "source": [
    "listing_calendar_df.drop(['price_listing'], axis = 1)\n",
    "listing_calendar_df = listing_calendar_df.rename(columns = {'price_calendar':'price'})\n",
    "listing_calendar_df.info()"
   ]
  },
  {
   "cell_type": "code",
   "execution_count": 17,
   "metadata": {
    "collapsed": true
   },
   "outputs": [],
   "source": [
    "listing_calendar_df.loc[listing_calendar_df.bedrooms.isnull(), 'bedrooms'] = 0"
   ]
  },
  {
   "cell_type": "code",
   "execution_count": 18,
   "metadata": {
    "collapsed": true
   },
   "outputs": [],
   "source": [
    "listing_calendar_df.loc[listing_calendar_df.beds.isnull(), 'bed_type'].unique()\n",
    "listing_calendar_df.loc[listing_calendar_df.beds.isnull(), 'beds'] = 1"
   ]
  },
  {
   "cell_type": "code",
   "execution_count": 19,
   "metadata": {
    "collapsed": true
   },
   "outputs": [],
   "source": [
    "listing_calendar_df.loc[listing_calendar_df.bathrooms.isnull(), 'bathrooms'] = 0"
   ]
  },
  {
   "cell_type": "code",
   "execution_count": 20,
   "metadata": {},
   "outputs": [
    {
     "data": {
      "text/plain": [
       "host_id                0\n",
       "price_listing          0\n",
       "latitude               0\n",
       "longitude              0\n",
       "city                   0\n",
       "neighbourhood          0\n",
       "host_since             0\n",
       "host_is_superhost      0\n",
       "room_type              0\n",
       "bed_type               0\n",
       "beds                   0\n",
       "bedrooms               0\n",
       "bathrooms              0\n",
       "minimum_nights         0\n",
       "cancellation_policy    0\n",
       "instant_bookable       0\n",
       "date                   0\n",
       "available              0\n",
       "price                  0\n",
       "dtype: int64"
      ]
     },
     "execution_count": 20,
     "metadata": {},
     "output_type": "execute_result"
    }
   ],
   "source": [
    "listing_calendar_df.isnull().sum()"
   ]
  },
  {
   "cell_type": "code",
   "execution_count": 21,
   "metadata": {
    "collapsed": true
   },
   "outputs": [],
   "source": [
    "listing_calendar_df = listing_calendar_df.drop(['host_id', 'price_listing'], axis = 1)"
   ]
  },
  {
   "cell_type": "markdown",
   "metadata": {},
   "source": [
    "Convert data type"
   ]
  },
  {
   "cell_type": "code",
   "execution_count": 22,
   "metadata": {},
   "outputs": [
    {
     "data": {
      "text/plain": [
       "dtype('O')"
      ]
     },
     "execution_count": 22,
     "metadata": {},
     "output_type": "execute_result"
    }
   ],
   "source": [
    "listing_calendar_df.host_since.dtypes"
   ]
  },
  {
   "cell_type": "code",
   "execution_count": 23,
   "metadata": {
    "collapsed": true
   },
   "outputs": [],
   "source": [
    "def data_conversion(df):\n",
    "    '''\n",
    "    INPUT: df - pandas dataframe you want to convert data type\n",
    "    OUTPUT: df - a new dataframe that has the following characteristics:\n",
    "    1. all the dates are datetime data type\n",
    "    2. all the binary variables are bool type\n",
    "    3. all the price variables are numeric\n",
    "    '''\n",
    "    for col in df.columns:\n",
    "        if (df[col].dtype == 'O'):\n",
    "            if (df[col].str.match(\"[1-2][0-9][0-9][0-9]-[0-9][0-9]-[0-9][0-9]\").sum() > 0):\n",
    "                df[col] = pd.to_datetime(df[col], format='%Y-%m-%d', errors='ignore')\n",
    "            elif (list(df[col].unique()) == ['t', 'f'] or list(df[col].unique()) == ['f', 't']):\n",
    "                bl_convert = {'t': True, 'f': False}\n",
    "                df[col] = df[col].replace(bl_convert)\n",
    "            elif (df[col].str.contains(\"\\$\", na=False).sum() > 0):\n",
    "                df[col] = pd.to_numeric(df[col].str.replace('\\$|\\,', ''))\n",
    "        else:\n",
    "            continue\n",
    "    return df"
   ]
  },
  {
   "cell_type": "code",
   "execution_count": 24,
   "metadata": {},
   "outputs": [
    {
     "name": "stdout",
     "output_type": "stream",
     "text": [
      "<class 'pandas.core.frame.DataFrame'>\n",
      "Int64Index: 1393570 entries, 0 to 1393569\n",
      "Data columns (total 17 columns):\n",
      "latitude               1393570 non-null float64\n",
      "longitude              1393570 non-null float64\n",
      "city                   1393570 non-null object\n",
      "neighbourhood          1393570 non-null object\n",
      "host_since             1393570 non-null datetime64[ns]\n",
      "host_is_superhost      1393570 non-null bool\n",
      "room_type              1393570 non-null object\n",
      "bed_type               1393570 non-null object\n",
      "beds                   1393570 non-null float64\n",
      "bedrooms               1393570 non-null float64\n",
      "bathrooms              1393570 non-null float64\n",
      "minimum_nights         1393570 non-null int64\n",
      "cancellation_policy    1393570 non-null object\n",
      "instant_bookable       1393570 non-null bool\n",
      "date                   1393570 non-null datetime64[ns]\n",
      "available              1393570 non-null bool\n",
      "price                  1393570 non-null float64\n",
      "dtypes: bool(3), datetime64[ns](2), float64(6), int64(1), object(5)\n",
      "memory usage: 163.5+ MB\n"
     ]
    }
   ],
   "source": [
    "listing_calendar_df = data_conversion(listing_calendar_df)\n",
    "listing_calendar_df.info()"
   ]
  },
  {
   "cell_type": "code",
   "execution_count": 25,
   "metadata": {
    "collapsed": true
   },
   "outputs": [],
   "source": [
    "# listing_calendar_avail_df = listing_calendar_df[['date', 'available']]\n",
    "# listing_calendar_avail_df['month'] = pd.DatetimeIndex(listing_calendar_avail_df['date']).month\n",
    "# listing_calendar_avail_df['month_cat'] = listing_calendar_avail_df.month.astype('category', ordered = True)\n",
    "# listing_calendar_avail_agg_df = listing_calendar_avail_df.groupby('date').agg({'available':['sum', 'count']})\n",
    "# listing_calendar_avail_agg_df['month'] = pd.DatetimeIndex(listing_calendar_avail_agg_df.index).month\n",
    "# listing_calendar_avail_agg_df['month_cat'] = listing_calendar_avail_agg_df.month.astype('category', ordered = True)"
   ]
  },
  {
   "cell_type": "code",
   "execution_count": 26,
   "metadata": {},
   "outputs": [
    {
     "data": {
      "image/png": "[encoded data removed]",
      "text/plain": [
       "<matplotlib.figure.Figure at 0x1122cc110>"
      ]
     },
     "metadata": {},
     "output_type": "display_data"
    }
   ],
   "source": [
    "listing_calendar_df.loc[listing_calendar_df['available'] == True, ].groupby('date').available.count().plot()\n",
    "plt.show()"
   ]
  },
  {
   "cell_type": "markdown",
   "metadata": {},
   "source": [
    "The available listings kept increasing from January to April and the needs of AirBnB house increasing til July. And the needs of house/apt will decreasing."
   ]
  },
  {
   "cell_type": "code",
   "execution_count": 27,
   "metadata": {
    "scrolled": true
   },
   "outputs": [
    {
     "data": {
      "image/png": "[encoded data removed]",
      "text/plain": [
       "<matplotlib.figure.Figure at 0x1122cc250>"
      ]
     },
     "metadata": {},
     "output_type": "display_data"
    }
   ],
   "source": [
    "listing_calendar_df.groupby('date').price.mean().plot()\n",
    "plt.show()"
   ]
  },
  {
   "cell_type": "markdown",
   "metadata": {},
   "source": [
    "The price trend follows the needs of house available. The needs of house were high from april and consisted through the summer time. "
   ]
  },
  {
   "cell_type": "code",
   "execution_count": 85,
   "metadata": {},
   "outputs": [
    {
     "data": {
      "text/plain": [
       "<matplotlib.axes._subplots.AxesSubplot at 0x117486b10>"
      ]
     },
     "execution_count": 85,
     "metadata": {},
     "output_type": "execute_result"
    },
    {
     "data": {
      "image/png": "[encoded data removed]",
      "text/plain": [
       "<matplotlib.figure.Figure at 0x11304f0d0>"
      ]
     },
     "metadata": {},
     "output_type": "display_data"
    }
   ],
   "source": [
    "sns.boxplot(listing_calendar_df.price, groupby = listing_calendar_df.city)"
   ]
  },
  {
   "cell_type": "markdown",
   "metadata": {},
   "source": [
    "The listings in Seattle had vary prices. And the prices of the listings of the other cities are in the range of 0-250 consistently."
   ]
  },
  {
   "cell_type": "code",
   "execution_count": 43,
   "metadata": {},
   "outputs": [],
   "source": [
    "listing_calendar_room_df = listing_calendar_df.loc[listing_calendar_df['available'] == True, ].groupby(['date', 'room_type']).available.sum()"
   ]
  },
  {
   "cell_type": "code",
   "execution_count": 55,
   "metadata": {},
   "outputs": [
    {
     "data": {
      "text/html": [
       "<div>\n",
       "<style>\n",
       "    .dataframe thead tr:only-child th {\n",
       "        text-align: right;\n",
       "    }\n",
       "\n",
       "    .dataframe thead th {\n",
       "        text-align: left;\n",
       "    }\n",
       "\n",
       "    .dataframe tbody tr th {\n",
       "        vertical-align: top;\n",
       "    }\n",
       "</style>\n",
       "<table border=\"1\" class=\"dataframe\">\n",
       "  <thead>\n",
       "    <tr style=\"text-align: right;\">\n",
       "      <th></th>\n",
       "      <th>date</th>\n",
       "      <th>room_type</th>\n",
       "      <th>available</th>\n",
       "    </tr>\n",
       "  </thead>\n",
       "  <tbody>\n",
       "    <tr>\n",
       "      <th>0</th>\n",
       "      <td>2016-01-04</td>\n",
       "      <td>Entire home/apt</td>\n",
       "      <td>1096.0</td>\n",
       "    </tr>\n",
       "    <tr>\n",
       "      <th>1</th>\n",
       "      <td>2016-01-04</td>\n",
       "      <td>Private room</td>\n",
       "      <td>580.0</td>\n",
       "    </tr>\n",
       "    <tr>\n",
       "      <th>2</th>\n",
       "      <td>2016-01-04</td>\n",
       "      <td>Shared room</td>\n",
       "      <td>59.0</td>\n",
       "    </tr>\n",
       "    <tr>\n",
       "      <th>3</th>\n",
       "      <td>2016-01-05</td>\n",
       "      <td>Entire home/apt</td>\n",
       "      <td>1160.0</td>\n",
       "    </tr>\n",
       "    <tr>\n",
       "      <th>4</th>\n",
       "      <td>2016-01-05</td>\n",
       "      <td>Private room</td>\n",
       "      <td>638.0</td>\n",
       "    </tr>\n",
       "  </tbody>\n",
       "</table>\n",
       "</div>"
      ],
      "text/plain": [
       "        date        room_type  available\n",
       "0 2016-01-04  Entire home/apt     1096.0\n",
       "1 2016-01-04     Private room      580.0\n",
       "2 2016-01-04      Shared room       59.0\n",
       "3 2016-01-05  Entire home/apt     1160.0\n",
       "4 2016-01-05     Private room      638.0"
      ]
     },
     "execution_count": 55,
     "metadata": {},
     "output_type": "execute_result"
    }
   ],
   "source": [
    "listing_calendar_room_new_df = listing_calendar_room_df.reset_index()"
   ]
  },
  {
   "cell_type": "code",
   "execution_count": 86,
   "metadata": {},
   "outputs": [
    {
     "ename": "AttributeError",
     "evalue": "'module' object has no attribute 'lineplot'",
     "output_type": "error",
     "traceback": [
      "\u001b[0;31m---------------------------------------------------------------------------\u001b[0m",
      "\u001b[0;31mAttributeError\u001b[0m                            Traceback (most recent call last)",
      "\u001b[0;32m<ipython-input-86-a368a7160b2f>\u001b[0m in \u001b[0;36m<module>\u001b[0;34m()\u001b[0m\n\u001b[0;32m----> 1\u001b[0;31m sns.lineplot(x=listing_calendar_room_new_df.date, y=listing_calendar_room_new_df.available\n\u001b[0m\u001b[1;32m      2\u001b[0m              , hue=listing_calendar_room_new_df.room_type)\n",
      "\u001b[0;31mAttributeError\u001b[0m: 'module' object has no attribute 'lineplot'"
     ]
    }
   ],
   "source": [
    "sns.lineplot(x=listing_calendar_room_new_df.date, y=listing_calendar_room_new_df.available\n",
    "             , hue=listing_calendar_room_new_df.room_type)"
   ]
  },
  {
   "cell_type": "code",
   "execution_count": 70,
   "metadata": {},
   "outputs": [
    {
     "data": {
      "text/html": [
       "<div>\n",
       "<style>\n",
       "    .dataframe thead tr:only-child th {\n",
       "        text-align: right;\n",
       "    }\n",
       "\n",
       "    .dataframe thead th {\n",
       "        text-align: left;\n",
       "    }\n",
       "\n",
       "    .dataframe tbody tr th {\n",
       "        vertical-align: top;\n",
       "    }\n",
       "</style>\n",
       "<table border=\"1\" class=\"dataframe\">\n",
       "  <thead>\n",
       "    <tr style=\"text-align: right;\">\n",
       "      <th>room_type</th>\n",
       "      <th>date</th>\n",
       "      <th>Entire home/apt</th>\n",
       "      <th>Private room</th>\n",
       "      <th>Shared room</th>\n",
       "    </tr>\n",
       "  </thead>\n",
       "  <tbody>\n",
       "    <tr>\n",
       "      <th>0</th>\n",
       "      <td>2016-01-04</td>\n",
       "      <td>1096.0</td>\n",
       "      <td>580.0</td>\n",
       "      <td>59.0</td>\n",
       "    </tr>\n",
       "    <tr>\n",
       "      <th>1</th>\n",
       "      <td>2016-01-05</td>\n",
       "      <td>1160.0</td>\n",
       "      <td>638.0</td>\n",
       "      <td>69.0</td>\n",
       "    </tr>\n",
       "    <tr>\n",
       "      <th>2</th>\n",
       "      <td>2016-01-06</td>\n",
       "      <td>1116.0</td>\n",
       "      <td>639.0</td>\n",
       "      <td>71.0</td>\n",
       "    </tr>\n",
       "    <tr>\n",
       "      <th>3</th>\n",
       "      <td>2016-01-07</td>\n",
       "      <td>1085.0</td>\n",
       "      <td>616.0</td>\n",
       "      <td>75.0</td>\n",
       "    </tr>\n",
       "    <tr>\n",
       "      <th>4</th>\n",
       "      <td>2016-01-08</td>\n",
       "      <td>1091.0</td>\n",
       "      <td>622.0</td>\n",
       "      <td>69.0</td>\n",
       "    </tr>\n",
       "  </tbody>\n",
       "</table>\n",
       "</div>"
      ],
      "text/plain": [
       "room_type       date  Entire home/apt  Private room  Shared room\n",
       "0         2016-01-04           1096.0         580.0         59.0\n",
       "1         2016-01-05           1160.0         638.0         69.0\n",
       "2         2016-01-06           1116.0         639.0         71.0\n",
       "3         2016-01-07           1085.0         616.0         75.0\n",
       "4         2016-01-08           1091.0         622.0         69.0"
      ]
     },
     "execution_count": 70,
     "metadata": {},
     "output_type": "execute_result"
    }
   ],
   "source": [
    "listing_calendar_room_new_pivot_df = listing_calendar_room_new_df.pivot(index = 'date', columns = 'room_type', values = 'available')\n",
    "listing_calendar_room_new_pivot_df = listing_calendar_room_new_pivot_df.reset_index()"
   ]
  },
  {
   "cell_type": "code",
   "execution_count": 29,
   "metadata": {
    "collapsed": true
   },
   "outputs": [],
   "source": [
    "listing_calendar_df_lm = listing_calendar_df[['price', 'available', 'date', 'city', 'neighbourhood', 'host_since', 'host_is_superhost', 'room_type',\n",
    "                                             'bed_type', 'beds', 'bedrooms', 'bathrooms'\n",
    "                                            , 'minimum_nights', 'cancellation_policy', 'instant_bookable']]"
   ]
  },
  {
   "cell_type": "code",
   "execution_count": 30,
   "metadata": {},
   "outputs": [
    {
     "name": "stderr",
     "output_type": "stream",
     "text": [
      "/anaconda/lib/python2.7/site-packages/ipykernel_launcher.py:1: SettingWithCopyWarning: \n",
      "A value is trying to be set on a copy of a slice from a DataFrame.\n",
      "Try using .loc[row_indexer,col_indexer] = value instead\n",
      "\n",
      "See the caveats in the documentation: http://pandas.pydata.org/pandas-docs/stable/indexing.html#indexing-view-versus-copy\n",
      "  \"\"\"Entry point for launching an IPython kernel.\n"
     ]
    }
   ],
   "source": [
    "listing_calendar_df_lm['host_since_days'] = (listing_calendar_df_lm['date'] - listing_calendar_df_lm['host_since']).astype('timedelta64[D]')"
   ]
  },
  {
   "cell_type": "code",
   "execution_count": 31,
   "metadata": {
    "collapsed": true
   },
   "outputs": [],
   "source": [
    "#need to convert the date into category\n",
    "listing_calendar_df_lm['month'] = pd.DatetimeIndex(listing_calendar_df_lm['date']).month\n",
    "listing_calendar_df_lm['month_cat'] = listing_calendar_df_lm['month'].astype('category')"
   ]
  },
  {
   "cell_type": "code",
   "execution_count": 32,
   "metadata": {},
   "outputs": [
    {
     "data": {
      "text/plain": [
       "category"
      ]
     },
     "execution_count": 32,
     "metadata": {},
     "output_type": "execute_result"
    }
   ],
   "source": [
    "listing_calendar_df_lm['month_cat'].dtype"
   ]
  },
  {
   "cell_type": "code",
   "execution_count": 33,
   "metadata": {
    "collapsed": true
   },
   "outputs": [],
   "source": [
    "listing_calendar_df_lm = pd.get_dummies(listing_calendar_df_lm[['price', 'available', 'month_cat', 'city', 'neighbourhood', 'host_since_days', 'host_is_superhost', 'room_type',\n",
    "                                             'bed_type', 'beds', 'bedrooms', 'bathrooms'\n",
    "                                            , 'minimum_nights', 'cancellation_policy', 'instant_bookable']], prefix_sep='_')"
   ]
  },
  {
   "cell_type": "code",
   "execution_count": 34,
   "metadata": {},
   "outputs": [
    {
     "data": {
      "text/html": [
       "<div>\n",
       "<style>\n",
       "    .dataframe thead tr:only-child th {\n",
       "        text-align: right;\n",
       "    }\n",
       "\n",
       "    .dataframe thead th {\n",
       "        text-align: left;\n",
       "    }\n",
       "\n",
       "    .dataframe tbody tr th {\n",
       "        vertical-align: top;\n",
       "    }\n",
       "</style>\n",
       "<table border=\"1\" class=\"dataframe\">\n",
       "  <thead>\n",
       "    <tr style=\"text-align: right;\">\n",
       "      <th></th>\n",
       "      <th>price</th>\n",
       "      <th>available</th>\n",
       "      <th>host_since_days</th>\n",
       "      <th>host_is_superhost</th>\n",
       "      <th>beds</th>\n",
       "      <th>bedrooms</th>\n",
       "      <th>bathrooms</th>\n",
       "      <th>minimum_nights</th>\n",
       "      <th>instant_bookable</th>\n",
       "      <th>month_cat_1</th>\n",
       "      <th>...</th>\n",
       "      <th>room_type_Private room</th>\n",
       "      <th>room_type_Shared room</th>\n",
       "      <th>bed_type_Airbed</th>\n",
       "      <th>bed_type_Couch</th>\n",
       "      <th>bed_type_Futon</th>\n",
       "      <th>bed_type_Pull-out Sofa</th>\n",
       "      <th>bed_type_Real Bed</th>\n",
       "      <th>cancellation_policy_flexible</th>\n",
       "      <th>cancellation_policy_moderate</th>\n",
       "      <th>cancellation_policy_strict</th>\n",
       "    </tr>\n",
       "  </thead>\n",
       "  <tbody>\n",
       "    <tr>\n",
       "      <th>0</th>\n",
       "      <td>85.0</td>\n",
       "      <td>True</td>\n",
       "      <td>1607.0</td>\n",
       "      <td>False</td>\n",
       "      <td>1.0</td>\n",
       "      <td>1.0</td>\n",
       "      <td>1.0</td>\n",
       "      <td>1</td>\n",
       "      <td>False</td>\n",
       "      <td>1</td>\n",
       "      <td>...</td>\n",
       "      <td>0</td>\n",
       "      <td>0</td>\n",
       "      <td>0</td>\n",
       "      <td>0</td>\n",
       "      <td>0</td>\n",
       "      <td>0</td>\n",
       "      <td>1</td>\n",
       "      <td>0</td>\n",
       "      <td>1</td>\n",
       "      <td>0</td>\n",
       "    </tr>\n",
       "    <tr>\n",
       "      <th>1</th>\n",
       "      <td>85.0</td>\n",
       "      <td>True</td>\n",
       "      <td>1608.0</td>\n",
       "      <td>False</td>\n",
       "      <td>1.0</td>\n",
       "      <td>1.0</td>\n",
       "      <td>1.0</td>\n",
       "      <td>1</td>\n",
       "      <td>False</td>\n",
       "      <td>1</td>\n",
       "      <td>...</td>\n",
       "      <td>0</td>\n",
       "      <td>0</td>\n",
       "      <td>0</td>\n",
       "      <td>0</td>\n",
       "      <td>0</td>\n",
       "      <td>0</td>\n",
       "      <td>1</td>\n",
       "      <td>0</td>\n",
       "      <td>1</td>\n",
       "      <td>0</td>\n",
       "    </tr>\n",
       "    <tr>\n",
       "      <th>2</th>\n",
       "      <td>85.0</td>\n",
       "      <td>False</td>\n",
       "      <td>1609.0</td>\n",
       "      <td>False</td>\n",
       "      <td>1.0</td>\n",
       "      <td>1.0</td>\n",
       "      <td>1.0</td>\n",
       "      <td>1</td>\n",
       "      <td>False</td>\n",
       "      <td>1</td>\n",
       "      <td>...</td>\n",
       "      <td>0</td>\n",
       "      <td>0</td>\n",
       "      <td>0</td>\n",
       "      <td>0</td>\n",
       "      <td>0</td>\n",
       "      <td>0</td>\n",
       "      <td>1</td>\n",
       "      <td>0</td>\n",
       "      <td>1</td>\n",
       "      <td>0</td>\n",
       "    </tr>\n",
       "    <tr>\n",
       "      <th>3</th>\n",
       "      <td>85.0</td>\n",
       "      <td>False</td>\n",
       "      <td>1610.0</td>\n",
       "      <td>False</td>\n",
       "      <td>1.0</td>\n",
       "      <td>1.0</td>\n",
       "      <td>1.0</td>\n",
       "      <td>1</td>\n",
       "      <td>False</td>\n",
       "      <td>1</td>\n",
       "      <td>...</td>\n",
       "      <td>0</td>\n",
       "      <td>0</td>\n",
       "      <td>0</td>\n",
       "      <td>0</td>\n",
       "      <td>0</td>\n",
       "      <td>0</td>\n",
       "      <td>1</td>\n",
       "      <td>0</td>\n",
       "      <td>1</td>\n",
       "      <td>0</td>\n",
       "    </tr>\n",
       "    <tr>\n",
       "      <th>4</th>\n",
       "      <td>85.0</td>\n",
       "      <td>False</td>\n",
       "      <td>1611.0</td>\n",
       "      <td>False</td>\n",
       "      <td>1.0</td>\n",
       "      <td>1.0</td>\n",
       "      <td>1.0</td>\n",
       "      <td>1</td>\n",
       "      <td>False</td>\n",
       "      <td>1</td>\n",
       "      <td>...</td>\n",
       "      <td>0</td>\n",
       "      <td>0</td>\n",
       "      <td>0</td>\n",
       "      <td>0</td>\n",
       "      <td>0</td>\n",
       "      <td>0</td>\n",
       "      <td>1</td>\n",
       "      <td>0</td>\n",
       "      <td>1</td>\n",
       "      <td>0</td>\n",
       "    </tr>\n",
       "  </tbody>\n",
       "</table>\n",
       "<p>5 rows × 118 columns</p>\n",
       "</div>"
      ],
      "text/plain": [
       "   price  available  host_since_days  host_is_superhost  beds  bedrooms  \\\n",
       "0   85.0       True           1607.0              False   1.0       1.0   \n",
       "1   85.0       True           1608.0              False   1.0       1.0   \n",
       "2   85.0      False           1609.0              False   1.0       1.0   \n",
       "3   85.0      False           1610.0              False   1.0       1.0   \n",
       "4   85.0      False           1611.0              False   1.0       1.0   \n",
       "\n",
       "   bathrooms  minimum_nights  instant_bookable  month_cat_1  \\\n",
       "0        1.0               1             False            1   \n",
       "1        1.0               1             False            1   \n",
       "2        1.0               1             False            1   \n",
       "3        1.0               1             False            1   \n",
       "4        1.0               1             False            1   \n",
       "\n",
       "              ...              room_type_Private room  room_type_Shared room  \\\n",
       "0             ...                                   0                      0   \n",
       "1             ...                                   0                      0   \n",
       "2             ...                                   0                      0   \n",
       "3             ...                                   0                      0   \n",
       "4             ...                                   0                      0   \n",
       "\n",
       "   bed_type_Airbed  bed_type_Couch  bed_type_Futon  bed_type_Pull-out Sofa  \\\n",
       "0                0               0               0                       0   \n",
       "1                0               0               0                       0   \n",
       "2                0               0               0                       0   \n",
       "3                0               0               0                       0   \n",
       "4                0               0               0                       0   \n",
       "\n",
       "   bed_type_Real Bed  cancellation_policy_flexible  \\\n",
       "0                  1                             0   \n",
       "1                  1                             0   \n",
       "2                  1                             0   \n",
       "3                  1                             0   \n",
       "4                  1                             0   \n",
       "\n",
       "   cancellation_policy_moderate  cancellation_policy_strict  \n",
       "0                             1                           0  \n",
       "1                             1                           0  \n",
       "2                             1                           0  \n",
       "3                             1                           0  \n",
       "4                             1                           0  \n",
       "\n",
       "[5 rows x 118 columns]"
      ]
     },
     "execution_count": 34,
     "metadata": {},
     "output_type": "execute_result"
    }
   ],
   "source": [
    "listing_calendar_df_lm.head()"
   ]
  },
  {
   "cell_type": "code",
   "execution_count": 35,
   "metadata": {
    "collapsed": true
   },
   "outputs": [],
   "source": [
    "def clean_fit_linear_mod(df, response_col, test_size=.3, rand_state=123):\n",
    "    '''\n",
    "    INPUT:\n",
    "    df - a dataframe holding all the variables of interest\n",
    "    response_col - a string holding the name of the column \n",
    "    test_size - a float between [0,1] about what proportion of data should be in the test dataset\n",
    "    rand_state - an int that is provided as the random state for splitting the data into training and test \n",
    "    \n",
    "    OUTPUT:\n",
    "    test_score - float - r2 score on the test data\n",
    "    train_score - float - r2 score on the test data\n",
    "    lm_model - model object from sklearn\n",
    "    X_train, X_test, y_train, y_test - output from sklearn train test split used for optimal model\n",
    "    '''\n",
    "\n",
    "    X = df.drop(response_col, axis = 1)\n",
    "    y = df[response_col]\n",
    "    X_train, X_test, y_train, y_test = train_test_split(X, y, test_size = test_size, random_state = rand_state)\n",
    "    lm_model = LinearRegression(normalize = True)\n",
    "    lm_model.fit(X_train, y_train)\n",
    "    y_train_pred = lm_model.predict(X_train)\n",
    "    y_test_pred = lm_model.predict(X_test)\n",
    "    train_score = r2_score(y_train, y_train_pred)\n",
    "    test_score = r2_score(y_test, y_test_pred)\n",
    "    return test_score, train_score, lm_model, X_train, X_test, y_train, y_test"
   ]
  },
  {
   "cell_type": "code",
   "execution_count": 36,
   "metadata": {
    "collapsed": true
   },
   "outputs": [],
   "source": [
    "test_score, train_score, lm_model, X_train, X_test, y_train, y_test = clean_fit_linear_mod(listing_calendar_df_lm, 'price')"
   ]
  },
  {
   "cell_type": "code",
   "execution_count": 37,
   "metadata": {},
   "outputs": [
    {
     "name": "stdout",
     "output_type": "stream",
     "text": [
      "(0.59209276970785552, 0.59221580456601575)\n"
     ]
    }
   ],
   "source": [
    "print(test_score, train_score)"
   ]
  },
  {
   "cell_type": "code",
   "execution_count": 38,
   "metadata": {},
   "outputs": [
    {
     "data": {
      "text/plain": [
       "array([  1.77855941e+01,   6.60299217e-04,   1.03836785e+01,\n",
       "         1.31420985e+01,   4.02153443e+01,   3.27564148e+01,\n",
       "        -8.72355694e-03,  -4.31511029e+00,  -2.26548061e+13,\n",
       "        -2.26548061e+13,  -2.26548061e+13,  -2.26548061e+13,\n",
       "        -2.26548061e+13,  -2.26548061e+13,  -2.26548061e+13,\n",
       "        -2.26548061e+13,  -2.26548061e+13,  -2.26548061e+13,\n",
       "        -2.26548061e+13,  -2.26548061e+13,   7.81853815e+13,\n",
       "         7.81853815e+13,   7.81853815e+13,   7.81853815e+13,\n",
       "        -2.54255951e+13,  -2.54255951e+13,  -2.54255951e+13,\n",
       "        -2.54255951e+13,  -2.54255951e+13,  -2.54255951e+13,\n",
       "        -2.54255951e+13,  -2.54255951e+13,  -2.54255951e+13,\n",
       "        -2.54255951e+13,  -2.54255951e+13,  -2.54255951e+13,\n",
       "        -2.54255951e+13,  -2.54255951e+13,  -2.54255951e+13,\n",
       "        -2.54255951e+13,  -2.54255951e+13,  -2.54255951e+13,\n",
       "        -2.54255951e+13,  -2.54255951e+13,  -2.54255951e+13,\n",
       "        -2.54255951e+13,  -2.54255951e+13,  -2.54255951e+13,\n",
       "        -2.54255951e+13,  -2.54255951e+13,  -2.54255951e+13,\n",
       "        -2.54255951e+13,  -2.54255951e+13,  -2.54255951e+13,\n",
       "        -2.54255951e+13,  -2.54255951e+13,  -2.54255951e+13,\n",
       "        -2.54255951e+13,  -2.54255951e+13,  -2.54255951e+13,\n",
       "        -2.54255951e+13,  -2.54255951e+13,  -2.54255951e+13,\n",
       "        -2.54255951e+13,  -2.54255951e+13,  -2.54255951e+13,\n",
       "        -2.54255951e+13,  -2.54255951e+13,  -2.54255951e+13,\n",
       "        -2.54255951e+13,  -2.54255951e+13,  -2.54255951e+13,\n",
       "        -2.54255951e+13,  -2.54255951e+13,  -2.54255951e+13,\n",
       "        -2.54255951e+13,  -2.54255951e+13,  -2.54255951e+13,\n",
       "        -2.54255951e+13,  -2.54255951e+13,  -2.54255951e+13,\n",
       "        -2.54255951e+13,  -2.54255951e+13,  -2.54255951e+13,\n",
       "        -2.54255951e+13,  -2.54255951e+13,  -2.54255951e+13,\n",
       "        -2.54255951e+13,  -2.54255951e+13,  -2.54255951e+13,\n",
       "        -2.54255951e+13,  -2.54255951e+13,  -2.54255951e+13,\n",
       "        -2.54255951e+13,  -2.54255951e+13,  -2.54255951e+13,\n",
       "        -2.54255951e+13,  -2.54255951e+13,  -2.54255951e+13,\n",
       "        -2.54255951e+13,  -2.54255951e+13,  -2.54255951e+13,\n",
       "        -2.54255951e+13,  -2.54255951e+13,  -2.54255951e+13,\n",
       "        -2.54255951e+13,   3.12483945e+13,   3.12483945e+13,\n",
       "         3.12483945e+13,  -1.91970342e+14,  -1.91970342e+14,\n",
       "        -1.91970342e+14,  -1.91970342e+14,  -1.91970342e+14,\n",
       "        -6.11842321e+12,  -6.11842321e+12,  -6.11842321e+12])"
      ]
     },
     "execution_count": 38,
     "metadata": {},
     "output_type": "execute_result"
    }
   ],
   "source": [
    "lm_model.coef_"
   ]
  },
  {
   "cell_type": "raw",
   "metadata": {},
   "source": [
    "lm_model.intercept_"
   ]
  },
  {
   "cell_type": "code",
   "execution_count": null,
   "metadata": {
    "collapsed": true
   },
   "outputs": [],
   "source": []
  }
 ],
 "metadata": {
  "kernelspec": {
   "display_name": "Python 2",
   "language": "python",
   "name": "python2"
  },
  "language_info": {
   "codemirror_mode": {
    "name": "ipython",
    "version": 2
   },
   "file_extension": ".py",
   "mimetype": "text/x-python",
   "name": "python",
   "nbconvert_exporter": "python",
   "pygments_lexer": "ipython2",
   "version": "2.7.3"
  }
 },
 "nbformat": 4,
 "nbformat_minor": 1
}
